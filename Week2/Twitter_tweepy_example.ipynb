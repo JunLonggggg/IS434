{
 "cells": [
  {
   "cell_type": "markdown",
   "metadata": {},
   "source": [
    "tweepy\n",
    "\n",
    "Official documentation: https://docs.tweepy.org/en/stable/\n",
    "\n",
    "Ref: https://dev.to/twitterdev/a-comprehensive-guide-for-using-the-twitter-api-v2-using-tweepy-in-python-15d9"
   ]
  },
  {
   "cell_type": "code",
   "execution_count": 1,
   "metadata": {},
   "outputs": [],
   "source": [
    "import tweepy\n",
    "import datetime\n",
    "import pandas as pd\n",
    "import json\n",
    "import requests"
   ]
  },
  {
   "cell_type": "code",
   "execution_count": 2,
   "metadata": {},
   "outputs": [],
   "source": [
    "# Update this variable with YOUR OWN Twitter Bearer Token\n",
    "BEARER_TOKEN = 'AAAAAAAAAAAAAAAAAAAAAMf%2BYQEAAAAACkTLkrYQO%2FHCXabre5%2F6j6gfVtA%3D0vKkGHXM12g4b1ofQmGAbEEKSaQ8HMZP0vAzrLjKlsaiz7MCKr'\n",
    "\n",
    "client = tweepy.Client(bearer_token=BEARER_TOKEN, return_type=requests.Response)"
   ]
  },
  {
   "cell_type": "code",
   "execution_count": 3,
   "metadata": {},
   "outputs": [],
   "source": [
    "'''\n",
    "Searching for Tweets from the last 7 days\n",
    "\n",
    "We can use the search_recent_tweets function available in Tweepy.\n",
    "You will have to pass it a search query to specify the data that you are looking for.\n",
    "\n",
    "Below, we will search for for Tweets from the last days from the \n",
    "Twitter handle realDonaldTrump and we are excluding retweets using -is:retweet.\n",
    "\n",
    "By default, a request returns 10 Tweets.\n",
    "If you want more than 10 Tweets per request, you can specify that using the max_results parameter.\n",
    "The maximum Tweets per request is 100.\n",
    "'''\n",
    "# Replace with your own search query\n",
    "handle = 'KimKardashian'\n",
    "query = 'from:' + handle + ' -is:retweet'\n",
    "\n",
    "tweets1 = client.search_recent_tweets(\n",
    "            query=query,\n",
    "            tweet_fields=['context_annotations', 'created_at'],\n",
    "            max_results=100)"
   ]
  },
  {
   "cell_type": "code",
   "execution_count": 4,
   "metadata": {},
   "outputs": [
    {
     "ename": "AttributeError",
     "evalue": "module 'pandas' has no attribute 'json_normalize'",
     "output_type": "error",
     "traceback": [
      "\u001b[1;31m---------------------------------------------------------------------------\u001b[0m",
      "\u001b[1;31mAttributeError\u001b[0m                            Traceback (most recent call last)",
      "\u001b[1;32m<ipython-input-4-6682bdd2dd33>\u001b[0m in \u001b[0;36m<module>\u001b[1;34m\u001b[0m\n\u001b[0;32m     10\u001b[0m \u001b[1;33m\u001b[0m\u001b[0m\n\u001b[0;32m     11\u001b[0m \u001b[1;31m# Transform to pandas Dataframe\u001b[0m\u001b[1;33m\u001b[0m\u001b[1;33m\u001b[0m\u001b[1;33m\u001b[0m\u001b[0m\n\u001b[1;32m---> 12\u001b[1;33m \u001b[0mdf1\u001b[0m \u001b[1;33m=\u001b[0m \u001b[0mpd\u001b[0m\u001b[1;33m.\u001b[0m\u001b[0mjson_normalize\u001b[0m\u001b[1;33m(\u001b[0m\u001b[0mtweets_data1\u001b[0m\u001b[1;33m)\u001b[0m\u001b[1;33m\u001b[0m\u001b[1;33m\u001b[0m\u001b[0m\n\u001b[0m\u001b[0;32m     13\u001b[0m \u001b[1;33m\u001b[0m\u001b[0m\n\u001b[0;32m     14\u001b[0m \u001b[0mdf1\u001b[0m\u001b[1;33m\u001b[0m\u001b[1;33m\u001b[0m\u001b[0m\n",
      "\u001b[1;32mC:\\Anaconda_File\\lib\\site-packages\\pandas\\__init__.py\u001b[0m in \u001b[0;36m__getattr__\u001b[1;34m(name)\u001b[0m\n\u001b[0;32m    212\u001b[0m \u001b[1;33m\u001b[0m\u001b[0m\n\u001b[0;32m    213\u001b[0m             \u001b[1;32mreturn\u001b[0m \u001b[0mPanel\u001b[0m\u001b[1;33m\u001b[0m\u001b[1;33m\u001b[0m\u001b[0m\n\u001b[1;32m--> 214\u001b[1;33m         \u001b[1;32mraise\u001b[0m \u001b[0mAttributeError\u001b[0m\u001b[1;33m(\u001b[0m\u001b[1;34m\"module 'pandas' has no attribute '{}'\"\u001b[0m\u001b[1;33m.\u001b[0m\u001b[0mformat\u001b[0m\u001b[1;33m(\u001b[0m\u001b[0mname\u001b[0m\u001b[1;33m)\u001b[0m\u001b[1;33m)\u001b[0m\u001b[1;33m\u001b[0m\u001b[1;33m\u001b[0m\u001b[0m\n\u001b[0m\u001b[0;32m    215\u001b[0m \u001b[1;33m\u001b[0m\u001b[0m\n\u001b[0;32m    216\u001b[0m \u001b[1;33m\u001b[0m\u001b[0m\n",
      "\u001b[1;31mAttributeError\u001b[0m: module 'pandas' has no attribute 'json_normalize'"
     ]
    }
   ],
   "source": [
    "'''\n",
    "Convert to pandas Dataframe\n",
    "'''\n",
    "\n",
    "# Save data as dictionary\n",
    "tweets_dict1 = tweets1.json()\n",
    "\n",
    "# Extract \"data\" value from dictionary\n",
    "tweets_data1 = tweets_dict1['data'] \n",
    "\n",
    "# Transform to pandas Dataframe\n",
    "df1 = pd.json_normalize(tweets_data1)\n",
    "\n",
    "df1"
   ]
  },
  {
   "cell_type": "code",
   "execution_count": 5,
   "metadata": {},
   "outputs": [
    {
     "ename": "BadRequest",
     "evalue": "400 Bad Request\nInvalid 'start_time':'2022-01-15T00:00Z'. 'start_time' must be on or after 2022-01-18T11:26Z\nInvalid 'end_time':'2022-01-16T00:00Z'. 'end_time' must be on or after 2022-01-18T11:26Z",
     "output_type": "error",
     "traceback": [
      "\u001b[1;31m---------------------------------------------------------------------------\u001b[0m",
      "\u001b[1;31mBadRequest\u001b[0m                                Traceback (most recent call last)",
      "\u001b[1;32m<ipython-input-5-536696c4bf01>\u001b[0m in \u001b[0;36m<module>\u001b[1;34m\u001b[0m\n\u001b[0;32m     15\u001b[0m \u001b[0mquery\u001b[0m \u001b[1;33m=\u001b[0m \u001b[1;34m'from:'\u001b[0m \u001b[1;33m+\u001b[0m \u001b[0mhandle\u001b[0m \u001b[1;33m+\u001b[0m \u001b[1;34m' -is:retweet'\u001b[0m\u001b[1;33m\u001b[0m\u001b[1;33m\u001b[0m\u001b[0m\n\u001b[0;32m     16\u001b[0m \u001b[1;33m\u001b[0m\u001b[0m\n\u001b[1;32m---> 17\u001b[1;33m tweets2 = client.search_recent_tweets(\n\u001b[0m\u001b[0;32m     18\u001b[0m             \u001b[0mquery\u001b[0m\u001b[1;33m=\u001b[0m\u001b[0mquery\u001b[0m\u001b[1;33m,\u001b[0m\u001b[1;33m\u001b[0m\u001b[1;33m\u001b[0m\u001b[0m\n\u001b[0;32m     19\u001b[0m             \u001b[0mtweet_fields\u001b[0m\u001b[1;33m=\u001b[0m\u001b[1;33m[\u001b[0m\u001b[1;34m'context_annotations'\u001b[0m\u001b[1;33m,\u001b[0m \u001b[1;34m'created_at'\u001b[0m\u001b[1;33m]\u001b[0m\u001b[1;33m,\u001b[0m\u001b[1;33m\u001b[0m\u001b[1;33m\u001b[0m\u001b[0m\n",
      "\u001b[1;32mC:\\Anaconda_File\\lib\\site-packages\\tweepy\\client.py\u001b[0m in \u001b[0;36msearch_recent_tweets\u001b[1;34m(self, query, user_auth, **params)\u001b[0m\n\u001b[0;32m    789\u001b[0m         \"\"\"\n\u001b[0;32m    790\u001b[0m         \u001b[0mparams\u001b[0m\u001b[1;33m[\u001b[0m\u001b[1;34m\"query\"\u001b[0m\u001b[1;33m]\u001b[0m \u001b[1;33m=\u001b[0m \u001b[0mquery\u001b[0m\u001b[1;33m\u001b[0m\u001b[1;33m\u001b[0m\u001b[0m\n\u001b[1;32m--> 791\u001b[1;33m         return self._make_request(\n\u001b[0m\u001b[0;32m    792\u001b[0m             \u001b[1;34m\"GET\"\u001b[0m\u001b[1;33m,\u001b[0m \u001b[1;34m\"/2/tweets/search/recent\"\u001b[0m\u001b[1;33m,\u001b[0m \u001b[0mparams\u001b[0m\u001b[1;33m=\u001b[0m\u001b[0mparams\u001b[0m\u001b[1;33m,\u001b[0m\u001b[1;33m\u001b[0m\u001b[1;33m\u001b[0m\u001b[0m\n\u001b[0;32m    793\u001b[0m             endpoint_parameters=(\n",
      "\u001b[1;32mC:\\Anaconda_File\\lib\\site-packages\\tweepy\\client.py\u001b[0m in \u001b[0;36m_make_request\u001b[1;34m(self, method, route, params, endpoint_parameters, json, data_type, user_auth)\u001b[0m\n\u001b[0;32m    164\u001b[0m                 \u001b[0mlog\u001b[0m\u001b[1;33m.\u001b[0m\u001b[0mwarn\u001b[0m\u001b[1;33m(\u001b[0m\u001b[1;34mf\"Unexpected parameter: {param_name}\"\u001b[0m\u001b[1;33m)\u001b[0m\u001b[1;33m\u001b[0m\u001b[1;33m\u001b[0m\u001b[0m\n\u001b[0;32m    165\u001b[0m \u001b[1;33m\u001b[0m\u001b[0m\n\u001b[1;32m--> 166\u001b[1;33m         response = self.request(method, route, params=request_params,\n\u001b[0m\u001b[0;32m    167\u001b[0m                                 json=json, user_auth=user_auth)\n\u001b[0;32m    168\u001b[0m \u001b[1;33m\u001b[0m\u001b[0m\n",
      "\u001b[1;32mC:\\Anaconda_File\\lib\\site-packages\\tweepy\\client.py\u001b[0m in \u001b[0;36mrequest\u001b[1;34m(self, method, route, params, json, user_auth)\u001b[0m\n\u001b[0;32m    118\u001b[0m \u001b[1;33m\u001b[0m\u001b[0m\n\u001b[0;32m    119\u001b[0m             \u001b[1;32mif\u001b[0m \u001b[0mresponse\u001b[0m\u001b[1;33m.\u001b[0m\u001b[0mstatus_code\u001b[0m \u001b[1;33m==\u001b[0m \u001b[1;36m400\u001b[0m\u001b[1;33m:\u001b[0m\u001b[1;33m\u001b[0m\u001b[1;33m\u001b[0m\u001b[0m\n\u001b[1;32m--> 120\u001b[1;33m                 \u001b[1;32mraise\u001b[0m \u001b[0mBadRequest\u001b[0m\u001b[1;33m(\u001b[0m\u001b[0mresponse\u001b[0m\u001b[1;33m)\u001b[0m\u001b[1;33m\u001b[0m\u001b[1;33m\u001b[0m\u001b[0m\n\u001b[0m\u001b[0;32m    121\u001b[0m             \u001b[1;32mif\u001b[0m \u001b[0mresponse\u001b[0m\u001b[1;33m.\u001b[0m\u001b[0mstatus_code\u001b[0m \u001b[1;33m==\u001b[0m \u001b[1;36m401\u001b[0m\u001b[1;33m:\u001b[0m\u001b[1;33m\u001b[0m\u001b[1;33m\u001b[0m\u001b[0m\n\u001b[0;32m    122\u001b[0m                 \u001b[1;32mraise\u001b[0m \u001b[0mUnauthorized\u001b[0m\u001b[1;33m(\u001b[0m\u001b[0mresponse\u001b[0m\u001b[1;33m)\u001b[0m\u001b[1;33m\u001b[0m\u001b[1;33m\u001b[0m\u001b[0m\n",
      "\u001b[1;31mBadRequest\u001b[0m: 400 Bad Request\nInvalid 'start_time':'2022-01-15T00:00Z'. 'start_time' must be on or after 2022-01-18T11:26Z\nInvalid 'end_time':'2022-01-16T00:00Z'. 'end_time' must be on or after 2022-01-18T11:26Z"
     ]
    }
   ],
   "source": [
    "'''\n",
    "If you want to get Tweets for a specific time-period, you can specify the time-period\n",
    "using the start_time and end_time parameters, as shown in the example below:\n",
    "'''\n",
    "\n",
    "# Replace with time period of your choice\n",
    "start_time = '2022-01-15T00:00:00Z'\n",
    "\n",
    "# Replace with time period of your choice\n",
    "end_time = '2022-01-16T00:00:00Z'\n",
    "\n",
    "\n",
    "# Replace with your own search query\n",
    "handle = 'KimKardashian'\n",
    "query = 'from:' + handle + ' -is:retweet'\n",
    "\n",
    "tweets2 = client.search_recent_tweets(\n",
    "            query=query,\n",
    "            tweet_fields=['context_annotations', 'created_at'],\n",
    "            start_time=start_time,\n",
    "            end_time=end_time,\n",
    "            max_results=100)\n",
    "\n",
    "'''\n",
    "Convert to pandas Dataframe\n",
    "'''\n",
    "\n",
    "tweets2.json()"
   ]
  },
  {
   "cell_type": "code",
   "execution_count": null,
   "metadata": {},
   "outputs": [],
   "source": [
    "'''\n",
    "Writing Tweets to a text file\n",
    "\n",
    "This example shows how you can write the Tweet IDs for each Tweet obtained \n",
    "for a search result, to a text file.\n",
    "\n",
    "Make sure to replace the file_name with the a name of your chosing.\n",
    "\n",
    "If you wish to write other fields to the text file, make sure to adjust the script below accordingly.\n",
    "'''\n",
    "\n",
    "file_name = 'tweets.txt'\n",
    "\n",
    "df1.to_csv(file_name, index=False, encoding='utf-8')\n",
    "\n",
    "# If you want a different delimiter, say, tab or '\\t'\n",
    "# You can do:\n",
    "#    df2.to_csv(file_name, index=False, encoding='utf-8', sep='\\t')"
   ]
  },
  {
   "cell_type": "code",
   "execution_count": null,
   "metadata": {},
   "outputs": [],
   "source": []
  }
 ],
 "metadata": {
  "kernelspec": {
   "display_name": "Python 3",
   "language": "python",
   "name": "python3"
  },
  "language_info": {
   "codemirror_mode": {
    "name": "ipython",
    "version": 3
   },
   "file_extension": ".py",
   "mimetype": "text/x-python",
   "name": "python",
   "nbconvert_exporter": "python",
   "pygments_lexer": "ipython3",
   "version": "3.8.5"
  }
 },
 "nbformat": 4,
 "nbformat_minor": 5
}
